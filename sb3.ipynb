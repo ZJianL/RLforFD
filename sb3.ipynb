{
 "cells": [
  {
   "cell_type": "code",
   "execution_count": null,
   "id": "239985fd-9600-4d9c-8c32-425948974c4c",
   "metadata": {},
   "outputs": [],
   "source": [
    "from env import FraudDetectionEnv\n",
    "from stable_baselines3 import DQN, PPO"
   ]
  },
  {
   "cell_type": "code",
   "execution_count": null,
   "id": "56d6fc35-9d6b-402c-8d67-6e7670cc219f",
   "metadata": {},
   "outputs": [],
   "source": [
    "if not os.path.exists(\"./saved_models\"):\n",
    "    os.makedirs(\"./saved_models\" )"
   ]
  },
  {
   "cell_type": "code",
   "execution_count": null,
   "id": "92275665-d5fa-469f-bc17-f6fbf763c4e6",
   "metadata": {},
   "outputs": [],
   "source": [
    "env = FraudDetectionEnv()\n",
    "max_turns = len(env.train)\n",
    "env = FraudDetectionEnv(max_turns)\n",
    "model = DQN('MlpPolicy', env, verbose=1)\n",
    "trained_dqn = model.learn(total_timesteps=1000_0000)"
   ]
  },
  {
   "cell_type": "code",
   "execution_count": null,
   "id": "35e1e817-c8f6-4574-acce-8b0692fc7f8a",
   "metadata": {},
   "outputs": [],
   "source": [
    "trained_dqn.save(\"./saved_models/dqn.zip\")"
   ]
  },
  {
   "cell_type": "code",
   "execution_count": null,
   "id": "78714a51-dbb6-4f24-8d6a-486d80f47225",
   "metadata": {},
   "outputs": [],
   "source": [
    "trained_dqn = DQN.load(\"./saved_models/dqn.zip\")"
   ]
  },
  {
   "cell_type": "code",
   "execution_count": null,
   "id": "dd6acdca-7eed-457e-bb63-87ceaea0acea",
   "metadata": {},
   "outputs": [],
   "source": [
    "true_positives_test = 0\n",
    "false_positives_test = 0\n",
    "true_negatives_test = 0\n",
    "false_negatives_test = 0\n",
    "acuracy = 0\n",
    "\n",
    "for i in range(len(env.test)):\n",
    "    action, _states = trained_dqn.predict(env.test.iloc[i,:-1].values)\n",
    "    if int(action) == 1:\n",
    "        if env.test.iloc[i,-1] == 1:\n",
    "            true_positives_test += 1\n",
    "        else:\n",
    "            false_positives_test += 1\n",
    "    elif int(action) == 0:\n",
    "        if env.test.iloc[i,-1] == 0:\n",
    "            true_negatives_test += 1\n",
    "        else:\n",
    "            false_negatives_test += 1\n",
    "for i in range(len(env.test)):\n",
    "    action, _state = trained_dqn.predict(env.test.iloc[i,:-1].values)\n",
    "    if int(action) == env.test.iloc[i,-1]:\n",
    "        acuracy += 1\n",
    "\n",
    "acuracy_rate = acuracy/len(env.test)\n",
    "\n",
    "fpr = false_positives_test / (false_positives_test + true_negatives_test)\n",
    "tpr = true_positives_test / (true_positives_test + false_negatives_test)\n",
    "\n",
    "print('fpr:',fpr)\n",
    "print('tpr:',tpr)\n",
    "print('acuracy:',acuracy_rate)"
   ]
  },
  {
   "cell_type": "code",
   "execution_count": null,
   "id": "df3edad4-2954-4ffe-8e09-16417d9f2c55",
   "metadata": {},
   "outputs": [],
   "source": [
    "env = FraudDetectionEnv()\n",
    "max_turns = len(env.train)\n",
    "env = FraudDetectionEnv(max_turns)\n",
    "model = PPO('MlpPolicy', env, verbose=1)\n",
    "trained_ppo = model.learn(total_timesteps=1024000)"
   ]
  },
  {
   "cell_type": "code",
   "execution_count": null,
   "id": "2e626e41-1d2d-4b77-9478-30cd888a8ac6",
   "metadata": {},
   "outputs": [],
   "source": [
    "trained_ppo.save(\"./saved_models/ppo.zip\")"
   ]
  },
  {
   "cell_type": "code",
   "execution_count": null,
   "id": "8e672d15-954b-4ea9-a8cf-4db6603556fa",
   "metadata": {},
   "outputs": [],
   "source": [
    "trained_ppo = PPO.load(\"./saved_models/ppo.zip\")"
   ]
  },
  {
   "cell_type": "code",
   "execution_count": null,
   "id": "576ec93e-a5ed-4764-bad0-fc1b3cff346b",
   "metadata": {},
   "outputs": [],
   "source": [
    "true_positives_test = 0\n",
    "false_positives_test = 0\n",
    "true_negatives_test = 0\n",
    "false_negatives_test = 0\n",
    "acuracy = 0\n",
    "\n",
    "for i in range(len(env.test)):\n",
    "    action, _states = trained_ppo.predict(env.test.iloc[i,:-1].values)\n",
    "    if int(action) == 1:\n",
    "        if env.test.iloc[i,-1] == 1:\n",
    "            true_positives_test += 1\n",
    "        else:\n",
    "            false_positives_test += 1\n",
    "    elif int(action) == 0:\n",
    "        if env.test.iloc[i,-1] == 0:\n",
    "            true_negatives_test += 1\n",
    "        else:\n",
    "            false_negatives_test += 1\n",
    "for i in range(len(env.test)):\n",
    "    action, _state = trained_ppo.predict(env.test.iloc[i,:-1].values)\n",
    "    if int(action) == env.test.iloc[i,-1]:\n",
    "        acuracy += 1\n",
    "\n",
    "acuracy_rate = acuracy/len(env.test)\n",
    "\n",
    "fpr = false_positives_test / (false_positives_test + true_negatives_test)\n",
    "tpr = true_positives_test / (true_positives_test + false_negatives_test)\n",
    "\n",
    "print('fpr:',fpr)\n",
    "print('tpr:',tpr)\n",
    "print('acuracy:',acuracy_rate)"
   ]
  }
 ],
 "metadata": {
  "kernelspec": {
   "display_name": "Python 3",
   "language": "python",
   "name": "python3"
  },
  "language_info": {
   "codemirror_mode": {
    "name": "ipython",
    "version": 3
   },
   "file_extension": ".py",
   "mimetype": "text/x-python",
   "name": "python",
   "nbconvert_exporter": "python",
   "pygments_lexer": "ipython3",
   "version": "3.8.16"
  }
 },
 "nbformat": 4,
 "nbformat_minor": 5
}
